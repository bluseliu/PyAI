{
 "cells": [
  {
   "cell_type": "markdown",
   "metadata": {},
   "source": [
    "# ndarray"
   ]
  },
  {
   "cell_type": "code",
   "execution_count": 9,
   "metadata": {},
   "outputs": [
    {
     "name": "stdout",
     "output_type": "stream",
     "text": [
      "--- 一維 ---\n",
      "[1 2 3]\n",
      "1\n",
      "(3,)\n",
      "3\n",
      "int64\n",
      "--- 二維 ---\n",
      "[[1 2 3]\n",
      " [4 5 6]]\n",
      "2\n",
      "(2, 3)\n",
      "6\n",
      "int64\n",
      "--- 三維 ---\n",
      "[[[1 2]\n",
      "  [3 4]]\n",
      "\n",
      " [[5 6]\n",
      "  [7 8]]]\n",
      "3\n",
      "(2, 2, 2)\n",
      "8\n",
      "int64\n"
     ]
    }
   ],
   "source": [
    "# p84 建立陣列\n",
    "import numpy as np\n",
    "\n",
    "print('--- 一維 ---')\n",
    "a = np.array([1, 2, 3])\n",
    "print(a)\n",
    "print(a.ndim)\n",
    "print(a.shape)\n",
    "print(a.size)\n",
    "print(a.dtype)\n",
    "\n",
    "print('--- 二維 ---')\n",
    "b = np.array([[1, 2, 3],[4, 5, 6]])\n",
    "print(b)\n",
    "print(b.ndim)\n",
    "print(b.shape)\n",
    "print(b.size)\n",
    "print(b.dtype)\n",
    "\n",
    "print('--- 三維 ---')\n",
    "c = np.array([[[1, 2], [3, 4]], [[5, 6], [7, 8]]])\n",
    "print(c)\n",
    "print(c.ndim)\n",
    "print(c.shape)\n",
    "print(c.size)\n",
    "print(c.dtype)"
   ]
  },
  {
   "cell_type": "code",
   "execution_count": 30,
   "metadata": {},
   "outputs": [
    {
     "name": "stdout",
     "output_type": "stream",
     "text": [
      "\n",
      "[1 2 3 4]\n",
      "int64\n",
      "\n",
      "[1 2 3 4]\n",
      "int64\n",
      "\n",
      "[1. 2. 3. 4.]\n",
      "float64\n",
      "\n",
      "[1.+0.j 2.+0.j 3.+0.j 4.+0.j]\n",
      "complex128\n",
      "\n",
      "[1. 2. 3. 4.]\n",
      "float64\n"
     ]
    },
    {
     "name": "stderr",
     "output_type": "stream",
     "text": [
      "/Users/willy/opt/anaconda3/lib/python3.7/site-packages/ipykernel_launcher.py:25: ComplexWarning: Casting complex values to real discards the imaginary part\n"
     ]
    }
   ],
   "source": [
    "# p85 指定陣列的資料型態\n",
    "import numpy as np\n",
    "\n",
    "print()\n",
    "a = np.array([1, 2, 3, 4])\n",
    "print(a)\n",
    "print(a.dtype)\n",
    "\n",
    "print()\n",
    "a = np.array([1, 2, 3, 4], np.int64)\n",
    "print(a)\n",
    "print(a.dtype)\n",
    "\n",
    "print()\n",
    "a = np.array([1, 2, 3, 4], dtype = float)\n",
    "print(a)\n",
    "print(a.dtype)\n",
    "\n",
    "print()\n",
    "a = np.array([1, 2, 3, 4], dtype = complex)\n",
    "print(a)\n",
    "print(a.dtype)\n",
    "\n",
    "print()\n",
    "b = np.array(a, dtype = float, copy = True)\n",
    "print(b)\n",
    "print(b.dtype)\n",
    "# ComplexWarning: Casting complex values to real discards the imaginary part: 將複數轉換為實數丟棄虛部"
   ]
  },
  {
   "cell_type": "code",
   "execution_count": 30,
   "metadata": {},
   "outputs": [
    {
     "name": "stdout",
     "output_type": "stream",
     "text": [
      "float16\n",
      "\n",
      "[(b'amy', 156, 50.) (b'bob', 175, 72.)]\n",
      "[b'amy' b'bob']\n"
     ]
    }
   ],
   "source": [
    "# p86 自訂結構型態\n",
    "import numpy as np\n",
    "\n",
    "# int8, int16, int32, int64 可用'i1', 'i2', 'i4', 'i8' 代替 (可用縮寫)\n",
    "# float16, float32, float64 可用'f1'', 'f2', 'f3', 'f4' 代替\n",
    "\n",
    "dt = np.dtype('f2')\n",
    "print(dt)\n",
    "\n",
    "print()\n",
    "people = np.dtype([('name', 'S20'), ('height ', 'i4'), ('weight', 'f2')])\n",
    "# string 20 bytes, int 4 bytes, floor 2 bytes\n",
    "\n",
    "a = np.array([('amy', 156, 50), ('bob', 175, 72)], dtype = people)\n",
    "print(a)\n",
    "print(a['name'])"
   ]
  },
  {
   "cell_type": "code",
   "execution_count": 7,
   "metadata": {},
   "outputs": [
    {
     "name": "stdout",
     "output_type": "stream",
     "text": [
      "[[ 1  2  3  4]\n",
      " [ 5  6  7  8]\n",
      " [ 9 10 11 12]]\n",
      "----------\n",
      "[[[ 1  2]\n",
      "  [ 3  4]]\n",
      "\n",
      " [[ 5  6]\n",
      "  [ 7  8]]\n",
      "\n",
      " [[ 9 10]\n",
      "  [11 12]]]\n",
      "----------\n",
      "[[ 1  4  7 10]\n",
      " [ 2  5  8 11]\n",
      " [ 3  6  9 12]]\n"
     ]
    }
   ],
   "source": [
    "# p87 變換陣列的形狀排列與維度\n",
    "\n",
    "import numpy as np\n",
    "\n",
    "a = np.array([1, 2, 3, 4, 5, 6, 7, 8, 9, 10, 11, 12])\n",
    "a_2d = a.reshape(3, 4) # (row, col)\n",
    "print(a_2d)\n",
    "\n",
    "print('----------')\n",
    "a_3d = a.reshape(3, 2, 2)\n",
    "print(a_3d)\n",
    "\n",
    "print('----------')\n",
    "a_2d_col = a.reshape(3, 4, order='F') # order方向: 預設為水平, F為垂直\n",
    "print(a_2d_col)"
   ]
  },
  {
   "cell_type": "code",
   "execution_count": 10,
   "metadata": {},
   "outputs": [
    {
     "name": "stdout",
     "output_type": "stream",
     "text": [
      "[ 0  1  2  3  4  5  6  7  8  9 10 11]\n",
      "----------\n",
      "[[ 0  1  2]\n",
      " [ 3  4  5]\n",
      " [ 6  7  8]\n",
      " [ 9 10 11]]\n"
     ]
    }
   ],
   "source": [
    "# p88 從數值範圍建立陣列\n",
    "import numpy as np\n",
    "a = np.arange(12)\n",
    "print(a)\n",
    "\n",
    "print('----------')\n",
    "a = np.arange(12).reshape(4,3)\n",
    "print(a)"
   ]
  },
  {
   "cell_type": "code",
   "execution_count": 14,
   "metadata": {},
   "outputs": [
    {
     "name": "stdout",
     "output_type": "stream",
     "text": [
      "[10. 12. 14. 16. 18.]\n",
      "----------\n",
      "[[0.   0.25 0.5 ]\n",
      " [0.75 1.   1.25]\n",
      " [1.5  1.75 2.  ]]\n",
      "----------\n",
      "[[  1   2   4   8  16]\n",
      " [ 32  64 128 256 512]]\n"
     ]
    }
   ],
   "source": [
    "# p89 等差數列(linspace) 與等比數列(logspace)\n",
    "\n",
    "import numpy as np\n",
    "\n",
    "a = np.linspace(10, 20, 5, endpoint = False) # (10~20之間, 產生5個等距的數字; endpoint=浮點數)\n",
    "print(a)\n",
    "\n",
    "print('----------')\n",
    "b = np.linspace(0, 2, 9).reshape(3, 3)\n",
    "print(b)\n",
    "          \n",
    "print('----------')\n",
    "c = np.logspace(0, 9, 10, base=2, dtype='i4').reshape(2,5) # base=基數; i4 int32\n",
    "print(c)"
   ]
  },
  {
   "cell_type": "code",
   "execution_count": 29,
   "metadata": {},
   "outputs": [
    {
     "name": "stdout",
     "output_type": "stream",
     "text": [
      "[[0. 0. 0.]\n",
      " [0. 0. 0.]]\n",
      "----------\n",
      "[[1. 1. 1.]\n",
      " [1. 1. 1.]]\n",
      "[[1 2 3]\n",
      " [4 5 6]]\n",
      "[[0 0 0]\n",
      " [0 0 0]]\n",
      "[[1 1 1]\n",
      " [1 1 1]]\n",
      "----------\n",
      "[[0.68976779 0.46015511 0.05462804]\n",
      " [0.42250422 0.27425319 0.81043115]]\n",
      "[[ 0.00000000e+000  4.94065646e-324]\n",
      " [ 1.73059937e-077 -4.33574101e-311]]\n",
      "[[4604388095434492416 4601961037385652062 4588033552004518160]\n",
      " [4601282779299499664 4598612126148514104 4605474934363027558]]\n",
      "----------\n",
      "[[1 0 0]\n",
      " [0 1 0]\n",
      " [0 0 1]]\n",
      "[[0. 1. 0.]\n",
      " [0. 0. 1.]\n",
      " [0. 0. 0.]]\n"
     ]
    }
   ],
   "source": [
    "# p90 陣列填值\n",
    "\n",
    "import numpy as np\n",
    "\n",
    "a = np.zeros([2,3])\n",
    "print(a)\n",
    "\n",
    "print('----------')\n",
    "b = np.ones([2,3])\n",
    "print(b)\n",
    "\n",
    "c = np.array([[1,2,3],[4,5,6]])\n",
    "print(c)\n",
    "\n",
    "c0 = np.zeros_like(c) # 根據c的形狀\n",
    "print(c0)\n",
    "\n",
    "c1 = np.ones_like(c)\n",
    "print(c1)\n",
    "\n",
    "print('----------')\n",
    "d = np.random.random((2,3)) # 產生隨機數字\n",
    "print(d)\n",
    "\n",
    "e = np.empty([2,2])  # 產生記憶體中的數字\n",
    "print(e)\n",
    "\n",
    "e1 = np.empty_like(c) # 將e如c的形狀顯示\n",
    "print(e1)\n",
    "\n",
    "print('----------')\n",
    "f = np.eye(3, dtype = int) # 對角線填1, 其他填0\n",
    "print(f)\n",
    "\n",
    "f1 = np.eye(3, k = 1) # 將f往右偏1個位置\n",
    "print(f1)"
   ]
  },
  {
   "cell_type": "code",
   "execution_count": 41,
   "metadata": {},
   "outputs": [
    {
     "name": "stdout",
     "output_type": "stream",
     "text": [
      "[0 1 2 3 4 5]\n",
      "[2 3 4]\n",
      "[0 2 4]\n",
      "----------\n",
      "[[11 12 13]\n",
      " [23 24 25]\n",
      " [34 35 36]]\n",
      "[23 24 25]\n",
      "- - - - - -\n",
      "[24 25]\n",
      "----------\n",
      "[12 24 35]\n",
      "[23 24 25]\n",
      "[[12 13]\n",
      " [24 25]\n",
      " [35 36]]\n"
     ]
    }
   ],
   "source": [
    "# p91 陣列切片\n",
    "\n",
    "import numpy as np\n",
    "\n",
    "a = np.arange(6) # 一維陣列\n",
    "print(a)\n",
    "print(a[2:-1])\n",
    "print(a[::2]) # [start, end, 間隔]\n",
    "\n",
    "print('----------')\n",
    "a = np.array([[11,12,13],[23,24,25],[34,35,36]]) # 二維陣列\n",
    "print(a)\n",
    "print(a[1])\n",
    "print('- - - - - -')\n",
    "print(a[1][1:])\n",
    "\n",
    "print('----------')\n",
    "print(a[...,1]) # ...代表省略\n",
    "print(a[1,...])\n",
    "print(a[...,1:])"
   ]
  },
  {
   "cell_type": "code",
   "execution_count": 52,
   "metadata": {},
   "outputs": [
    {
     "name": "stdout",
     "output_type": "stream",
     "text": [
      "[[ 0  1  2  3  4  5]\n",
      " [ 6  7  8  9 10 11]\n",
      " [12 13 14 15 16 17]\n",
      " [18 19 20 21 22 23]\n",
      " [24 25 26 27 28 29]\n",
      " [30 31 32 33 34 35]]\n",
      "----------\n",
      "29\n",
      "29\n",
      "----------\n",
      "[19 20 21]\n",
      "----------\n",
      "[[ 3  4  5]\n",
      " [ 9 10 11]\n",
      " [15 16 17]]\n",
      "----------\n",
      "[12 13 14 15 16 17]\n",
      "----------\n",
      "[ 3  9 15 21 27 33]\n",
      "----------\n",
      "[[ 0  2  4]\n",
      " [ 6  8 10]\n",
      " [12 14 16]\n",
      " [18 20 22]\n",
      " [24 26 28]\n",
      " [30 32 34]]\n",
      "----------\n",
      "[[ 0  3]\n",
      " [12 15]\n",
      " [24 27]]\n"
     ]
    }
   ],
   "source": [
    "# p92 二維陣列的索引\n",
    "\n",
    "import numpy as np\n",
    "\n",
    "a = np.arange(0,36).reshape(6,6)\n",
    "print(a)\n",
    "\n",
    "print('----------')\n",
    "print(a[4,5])\n",
    "print(a[4,-1])\n",
    "\n",
    "print('----------')\n",
    "print(a[3, 1:4])\n",
    "\n",
    "print('----------')\n",
    "print(a[:3, 3:])\n",
    "\n",
    "print('----------')\n",
    "print(a[2,:])\n",
    "\n",
    "print('----------')\n",
    "print(a[:,3])\n",
    "\n",
    "print('----------')\n",
    "print(a[:,::2]) # 是col向量,但python是橫向列出\n",
    "\n",
    "print('----------')\n",
    "print(a[::2, ::3])"
   ]
  },
  {
   "cell_type": "code",
   "execution_count": 67,
   "metadata": {},
   "outputs": [
    {
     "name": "stdout",
     "output_type": "stream",
     "text": [
      "[[[ 0  1  2  3]\n",
      "  [ 4  5  6  7]]\n",
      "\n",
      " [[ 8  9 10 11]\n",
      "  [12 13 14 15]]]\n",
      "----------\n",
      "[[0 1 2 3]\n",
      " [4 5 6 7]]\n",
      "----------\n",
      "[[1 2]\n",
      " [5 6]]\n",
      "----------\n",
      "[4 5 6]\n",
      "----------\n",
      "[4 5 6 7]\n",
      "----------\n",
      "[4 5 6 7]\n",
      "----------\n",
      "6\n",
      "----------\n",
      "6\n"
     ]
    }
   ],
   "source": [
    "# p93 三維陣列的索引\n",
    "\n",
    "import numpy as np\n",
    "\n",
    "a = np.arange(16).reshape(2,2,4) # 2個 2x4的矩陣\n",
    "print(a)\n",
    "\n",
    "print('----------')\n",
    "print(a[0])\n",
    "\n",
    "print('----------')\n",
    "print(a[0, :, 1:3])\n",
    "\n",
    "print('----------')\n",
    "print(a[0, 1, :-1]) # : -1最後一個不算 like (1:5)是1,2,3,4\n",
    "\n",
    "print('----------')\n",
    "print(a[0, 1]) # 陣列索引\n",
    "\n",
    "print('----------')\n",
    "print(a[0][1]) # 切片擷取(上面的另一種寫法)\n",
    "\n",
    "print('----------')\n",
    "print(a[0, 1, 2]) # 陣㓚索引\n",
    "\n",
    "print('----------')\n",
    "print(a[0][1][2]) # 切片擷取(上面的另一種寫法)"
   ]
  },
  {
   "cell_type": "code",
   "execution_count": 76,
   "metadata": {},
   "outputs": [
    {
     "name": "stdout",
     "output_type": "stream",
     "text": [
      "[[ 0  1  2  3  4]\n",
      " [ 5  6  7  8  9]\n",
      " [10 11 12 13 14]\n",
      " [15 16 17 18 19]\n",
      " [20 21 22 23 24]]\n",
      "----------\n",
      "[ 0  6 10]\n",
      "----------\n",
      "[[10 11 12 13 14]\n",
      " [20 21 22 23 24]]\n",
      "----------\n",
      "[21 22 23 24]\n",
      "[ 0  2  4  6  8 10 12 14 16 18 20 22 24]\n"
     ]
    }
   ],
   "source": [
    "# p94 陣列索引的其他方式\n",
    "\n",
    "import numpy as np\n",
    "\n",
    "x = np.arange(25).reshape(5,5)\n",
    "print(x)\n",
    "\n",
    "print('----------')\n",
    "print(x[[0, 1, 2], [0, 1, 0]]) # 取(0, 0) (1, 0) (2, 0)\n",
    "\n",
    "print('----------')\n",
    "print(x[[2, 4]]) # 取row 2 4\n",
    "\n",
    "print('----------')\n",
    "print(x[ x > 20])\n",
    "print(x[ x % 2 == 0])"
   ]
  },
  {
   "cell_type": "code",
   "execution_count": 87,
   "metadata": {},
   "outputs": [
    {
     "name": "stdout",
     "output_type": "stream",
     "text": [
      "a:  [0 1 2 3 4 5 6]\n",
      "b:  [2 3 4 5]\n",
      "----------\n",
      "c:  [2 3 4 5]\n",
      "True\n",
      "False\n",
      "----------\n",
      "[ 0  1 20  3  4  5  6]\n"
     ]
    }
   ],
   "source": [
    "# p95 陣列與共用記憶體\n",
    "\n",
    "import numpy as np\n",
    "\n",
    "a = np.arange(7)\n",
    "print('a: ', a)\n",
    "\n",
    "b = a[2:6]\n",
    "print('b: ', b)\n",
    "\n",
    "print('----------')\n",
    "c = a[2:6].copy()\n",
    "print('c: ', c)\n",
    "\n",
    "print(np.may_share_memory(a, b)) # b與a共用記憶體\n",
    "print(np.may_share_memory(a, c)) # c是複製a\n",
    "\n",
    "print('----------')\n",
    "b[0] = 20 # 因為共用記憶體, 所以b改變, a也改變了\n",
    "print(a)"
   ]
  },
  {
   "cell_type": "code",
   "execution_count": 93,
   "metadata": {},
   "outputs": [
    {
     "name": "stdout",
     "output_type": "stream",
     "text": [
      "[[1 2 3 4]\n",
      " [4 5 6 7]]\n",
      "----------\n",
      "[[1 2 2 2]\n",
      " [2 1 1 2]]\n",
      "----------\n",
      "[[ 1  4  6  8]\n",
      " [ 8  5  6 14]]\n",
      "----------\n",
      "----------\n",
      "[[1]\n",
      " [2]]\n",
      "----------\n",
      "[[ 1  2  3  4]\n",
      " [ 8 10 12 14]]\n",
      "[[2 3 4 5]\n",
      " [5 6 7 8]]\n"
     ]
    }
   ],
   "source": [
    "# p96~p97 廣播_對不同形狀的陣列進行陣列計算\n",
    "\n",
    "import numpy as np\n",
    "\n",
    "a = np.array([[1, 2, 3, 4], [4, 5, 6, 7]])\n",
    "print(a)\n",
    "\n",
    "print('----------')\n",
    "b = np.random.randint(1, 3, 8).reshape(2 ,4)\n",
    "print(b)\n",
    "\n",
    "print('----------')\n",
    "print(a*b) # 形狀一樣，對應位置相乘\n",
    "\n",
    "print('----------')\n",
    "print('----------')\n",
    "c = np.array([1, 2]).reshape(2, 1)\n",
    "print(c)\n",
    "\n",
    "print('----------')\n",
    "print(a*c) # 乘法廣播\n",
    "\n",
    "d = np.array([1, 1, 1, 1]) # 加法廣播\n",
    "print(a + d)"
   ]
  },
  {
   "cell_type": "code",
   "execution_count": 105,
   "metadata": {},
   "outputs": [
    {
     "name": "stdout",
     "output_type": "stream",
     "text": [
      "[[0 1 2]\n",
      " [3 4 5]]\n",
      "----------\n",
      "[[ 5  6  7]\n",
      " [ 8  9 10]]\n",
      "----------\n",
      "[[1 1 1]\n",
      " [1 1 1]]\n",
      "- - - - - \n",
      "[[2 3 4]\n",
      " [5 6 7]]\n"
     ]
    }
   ],
   "source": [
    "# p95 矩陣計算_位置相加\n",
    "\n",
    "a = np.arange(6).reshape(2, 3)\n",
    "print(a)\n",
    "      \n",
    "print('----------')\n",
    "print(a + 5) # 每個位置+5\n",
    "\n",
    "print('----------')\n",
    "b = np.ones(6, dtype = int).reshape(2, 3)\n",
    "print(b)\n",
    "print('- - - - - ')\n",
    "print(a + 2 * b) # b為每個位置是1, *2後為每個位置是2, 再加a"
   ]
  },
  {
   "cell_type": "code",
   "execution_count": 109,
   "metadata": {},
   "outputs": [
    {
     "name": "stdout",
     "output_type": "stream",
     "text": [
      "[[0 1]\n",
      " [2 3]\n",
      " [4 5]]\n",
      "----------\n",
      "[[0 1 2]\n",
      " [3 4 5]]\n",
      "----------\n",
      "[[ 3  4  5]\n",
      " [ 9 14 19]\n",
      " [15 24 33]]\n",
      "----------\n",
      "[[ 3  9 15]\n",
      " [ 4 14 24]\n",
      " [ 5 19 33]]\n"
     ]
    }
   ],
   "source": [
    "# p96 矩陣計算_內積與轉置\n",
    "\n",
    "a = np.arange(6).reshape(3, 2)\n",
    "print(a)\n",
    "\n",
    "print('----------')\n",
    "b = np.arange(6).reshape(2, 3)\n",
    "print(b)\n",
    "\n",
    "print('----------')\n",
    "c = np.dot(a, b) # 參考講義p24\n",
    "print(c)\n",
    "\n",
    "print('----------')\n",
    "print(c.T) # 矩陣轉置"
   ]
  },
  {
   "cell_type": "code",
   "execution_count": 130,
   "metadata": {},
   "outputs": [
    {
     "name": "stdout",
     "output_type": "stream",
     "text": [
      "[0 1 2 3 4 5] <class 'numpy.ndarray'>\n",
      "15\n",
      "2.5\n",
      "1.707825127659933\n",
      "a.min:  0\n",
      "5\n",
      "a.argmin:  0\n",
      "5\n",
      "[ 1. -1.  1.]\n",
      "[ 2.71828183  7.3890561  20.08553692]\n",
      "[1. 2. 3. 4.]\n",
      "3\n",
      "----------\n",
      "b:  [1 2 3 4 5] <class 'numpy.ndarray'>\n",
      "b.argmin:  0\n",
      "b.min:  1\n"
     ]
    }
   ],
   "source": [
    "# p100 內建函數\n",
    "\n",
    "import numpy as np\n",
    "\n",
    "a = np.arange(6)\n",
    "print(a, type(a))\n",
    "print(a.sum())\n",
    "print(a.mean())\n",
    "print(a.std())\n",
    "print('a.min: ', a.min())\n",
    "print(a.max())\n",
    "print('a.argmin: ', a.argmin()) # 最小值的位置, 參考備註\n",
    "print(a.argmax())\n",
    "print(np.cos([0, np.pi, 2*np.pi])) # np.pi = 3.141592653589793\n",
    "print(np.exp([1, 2, 3])) # exp為自然常數2.71828\n",
    "print(np.sqrt([1, 4, 9, 16])) # sqrt為開根號\n",
    "\n",
    "'''備註\n",
    "argmax(a, axis=None, out=None)\n",
    "a 表示array\n",
    "axis 表示指定的軸, 默認是None, 表示把array平鋪\n",
    "out 默認為None, 如果指定, 返回的结果會插入其中'''\n",
    "\n",
    "a = np.array([[2,5,6],[7,6,1]])\n",
    "print(np.argmax(a))\n",
    "# 輸出结果為3, 因為a裡面7是最大的, 但没有指定axis, 默認是None, 相當於把array平鋪為[2,5,6,7,6,1], 结果就是3，因為索引3對應的值最大\n",
    "\n",
    "print('----------')\n",
    "b = np.array([1, 2, 3, 4, 5])\n",
    "print('b: ', b, type(b))\n",
    "print('b.argmin: ', b.argmin())\n",
    "print('b.min: ', b.min())"
   ]
  },
  {
   "cell_type": "code",
   "execution_count": 136,
   "metadata": {},
   "outputs": [
    {
     "name": "stdout",
     "output_type": "stream",
     "text": [
      "[[14 16 12 16]\n",
      " [15  8 11 18]\n",
      " [ 1  3  4  7]\n",
      " [18  1  5 15]]\n",
      "----------\n",
      "[[ 1  1  4  7]\n",
      " [14  3  5 15]\n",
      " [15  8 11 16]\n",
      " [18 16 12 18]]\n",
      "----------\n",
      "[[ 1  1  4  7]\n",
      " [ 3  5 14 15]\n",
      " [ 8 11 15 16]\n",
      " [12 16 18 18]]\n"
     ]
    }
   ],
   "source": [
    "# 102存檔\n",
    "\n",
    "import numpy as np\n",
    "a = np.random.randint(1, 20, 16).reshape(4, 4) # 建立1~20隨機16個數字旳4x4矩陣\n",
    "print(a)\n",
    "\n",
    "print('----------')\n",
    "b = np.sort(a, axis = 0)\n",
    "print(b)\n",
    "\n",
    "print('----------')\n",
    "c = np.sort(b, axis = 1) # 依據b按col順序排列\n",
    "print(c)\n",
    "\n",
    "# np.save('c', c) # save(檔名，要存的矩陣)\n",
    "# np.savetxt('c', c) # 存成txt檔(無法load回來)\n",
    "# d = np.load('c.npy') # load檔案"
   ]
  },
  {
   "cell_type": "code",
   "execution_count": null,
   "metadata": {},
   "outputs": [],
   "source": []
  }
 ],
 "metadata": {
  "kernelspec": {
   "display_name": "Python 3",
   "language": "python",
   "name": "python3"
  },
  "language_info": {
   "codemirror_mode": {
    "name": "ipython",
    "version": 3
   },
   "file_extension": ".py",
   "mimetype": "text/x-python",
   "name": "python",
   "nbconvert_exporter": "python",
   "pygments_lexer": "ipython3",
   "version": "3.7.4"
  }
 },
 "nbformat": 4,
 "nbformat_minor": 2
}
