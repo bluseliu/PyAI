{
 "cells": [
  {
   "cell_type": "markdown",
   "metadata": {},
   "source": [
    "# ndarray"
   ]
  },
  {
   "cell_type": "code",
   "execution_count": 9,
   "metadata": {},
   "outputs": [
    {
     "name": "stdout",
     "output_type": "stream",
     "text": [
      "--- 一維 ---\n",
      "[1 2 3]\n",
      "1\n",
      "(3,)\n",
      "3\n",
      "int64\n",
      "--- 二維 ---\n",
      "[[1 2 3]\n",
      " [4 5 6]]\n",
      "2\n",
      "(2, 3)\n",
      "6\n",
      "int64\n",
      "--- 三維 ---\n",
      "[[[1 2]\n",
      "  [3 4]]\n",
      "\n",
      " [[5 6]\n",
      "  [7 8]]]\n",
      "3\n",
      "(2, 2, 2)\n",
      "8\n",
      "int64\n"
     ]
    }
   ],
   "source": [
    "# p84 建立陣列\n",
    "import numpy as np\n",
    "\n",
    "print('--- 一維 ---')\n",
    "a = np.array([1, 2, 3])\n",
    "print(a)\n",
    "print(a.ndim)\n",
    "print(a.shape)\n",
    "print(a.size)\n",
    "print(a.dtype)\n",
    "\n",
    "print('--- 二維 ---')\n",
    "b = np.array([[1, 2, 3],[4, 5, 6]])\n",
    "print(b)\n",
    "print(b.ndim)\n",
    "print(b.shape)\n",
    "print(b.size)\n",
    "print(b.dtype)\n",
    "\n",
    "print('--- 三維 ---')\n",
    "c = np.array([[[1, 2], [3, 4]], [[5, 6], [7, 8]]])\n",
    "print(c)\n",
    "print(c.ndim)\n",
    "print(c.shape)\n",
    "print(c.size)\n",
    "print(c.dtype)"
   ]
  },
  {
   "cell_type": "code",
   "execution_count": 18,
   "metadata": {},
   "outputs": [
    {
     "name": "stdout",
     "output_type": "stream",
     "text": [
      "\n",
      "[1 2 3 4]\n",
      "int64\n",
      "\n",
      "[1 2 3 4]\n",
      "int64\n",
      "\n",
      "[1. 2. 3. 4.]\n",
      "float64\n",
      "\n",
      "[1.+0.j 2.+0.j 3.+0.j 4.+0.j]\n",
      "complex128\n",
      "\n",
      "[1. 2. 3. 4.]\n",
      "float64\n"
     ]
    },
    {
     "name": "stderr",
     "output_type": "stream",
     "text": [
      "/Users/willy/opt/anaconda3/lib/python3.7/site-packages/ipykernel_launcher.py:25: ComplexWarning: Casting complex values to real discards the imaginary part\n"
     ]
    }
   ],
   "source": [
    "# p85 指定陣列的資料型態\n",
    "import numpy as np\n",
    "\n",
    "print()\n",
    "a = np.array([1, 2, 3, 4])\n",
    "print(a)\n",
    "print(a.dtype)\n",
    "\n",
    "print()\n",
    "a = np.array([1, 2, 3, 4], np.int64)\n",
    "print(a)\n",
    "print(a.dtype)\n",
    "\n",
    "print()\n",
    "a = np.array([1, 2, 3, 4], dtype = float)\n",
    "print(a)\n",
    "print(a.dtype)\n",
    "\n",
    "print()\n",
    "a = np.array([1, 2, 3, 4], dtype = complex)\n",
    "print(a)\n",
    "print(a.dtype)\n",
    "\n",
    "print()\n",
    "b = np.array(a, dtype = float, copy = True)\n",
    "print(b)\n",
    "print(b.dtype)\n",
    "# ComplexWarning: Casting complex values to real discards the imaginary part: 將複數轉換為實數丟棄虛部"
   ]
  },
  {
   "cell_type": "code",
   "execution_count": 30,
   "metadata": {},
   "outputs": [
    {
     "name": "stdout",
     "output_type": "stream",
     "text": [
      "float16\n",
      "\n",
      "[(b'amy', 156, 50.) (b'bob', 175, 72.)]\n",
      "[b'amy' b'bob']\n"
     ]
    }
   ],
   "source": [
    "# p86 自訂結構型態\n",
    "import numpy as np\n",
    "\n",
    "# int8, int16, int32, int64 可用'i1', 'i2', 'i4', 'i8' 代替 (可用縮寫)\n",
    "# float16, float32, float64 可用'f1'', 'f2', 'f3', 'f4' 代替\n",
    "\n",
    "dt = np.dtype('f2')\n",
    "print(dt)\n",
    "\n",
    "print()\n",
    "people = np.dtype([('name', 'S20'), ('height ', 'i4'), ('weight', 'f2')])\n",
    "# string 20 bytes, int 4 bytes, floor 2 bytes\n",
    "\n",
    "a = np.array([('amy', 156, 50), ('bob', 175, 72)], dtype = people)\n",
    "print(a)\n",
    "print(a['name'])"
   ]
  },
  {
   "cell_type": "code",
   "execution_count": null,
   "metadata": {},
   "outputs": [],
   "source": []
  }
 ],
 "metadata": {
  "kernelspec": {
   "display_name": "Python 3",
   "language": "python",
   "name": "python3"
  },
  "language_info": {
   "codemirror_mode": {
    "name": "ipython",
    "version": 3
   },
   "file_extension": ".py",
   "mimetype": "text/x-python",
   "name": "python",
   "nbconvert_exporter": "python",
   "pygments_lexer": "ipython3",
   "version": "3.7.4"
  }
 },
 "nbformat": 4,
 "nbformat_minor": 2
}
